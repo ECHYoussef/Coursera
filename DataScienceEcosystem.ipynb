{
 "cells": [
  {
   "cell_type": "markdown",
   "id": "e6fcc21c-ae1e-44e5-8977-f92d52b34a09",
   "metadata": {},
   "source": [
    "# Data Science Tools and Ecosystem"
   ]
  },
  {
   "cell_type": "markdown",
   "id": "ef203934-a837-460f-b0e0-840815e7550b",
   "metadata": {},
   "source": [
    "In this notebook, Data Science Tools and Ecosystem are summarized."
   ]
  },
  {
   "cell_type": "markdown",
   "id": "d8986b36-edc6-498c-9daf-efd8663b5e12",
   "metadata": {},
   "source": [
    "**Objectives:**\n",
    "- List popular languages for Data Science\n",
    "- List of common libraries used in Data Science\n",
    "- List of the main Open source Data Science Tools\n",
    "- Introduction to arithmetic expressions"
   ]
  },
  {
   "cell_type": "markdown",
   "id": "3809a4f3-82dc-4c3b-be81-33e9adf9146c",
   "metadata": {
    "tags": []
   },
   "source": [
    "\n",
    "Some of the popular languages that Data Scientists use are:\n",
    "1. Python\n",
    "2. R\n",
    "3. Julia\n",
    "4. Java"
   ]
  },
  {
   "cell_type": "markdown",
   "id": "112feb66-e297-411e-8e69-2fd6ed224f20",
   "metadata": {},
   "source": [
    "Some of the commonly used libraries used by Data Scientists include:\n",
    "1. Panda\n",
    "2. NumPy\n",
    "3. Matplotlib\n",
    "4. Scikit-learn"
   ]
  },
  {
   "cell_type": "markdown",
   "id": "cddf14d5-cc5c-45b2-b236-c204c1bc1131",
   "metadata": {},
   "source": [
    "\n",
    "|Data Science Tools|\n",
    "|------------------|\n",
    "|Jupiter Notebook|\n",
    "|R Studio|\n",
    "|Apache Spark|\n"
   ]
  },
  {
   "cell_type": "code",
   "execution_count": null,
   "id": "21bafa72-823f-4ef1-a5f5-b37da4833851",
   "metadata": {},
   "outputs": [],
   "source": [
    "### Below are a few examples of evaluating arithmetic expressions in Python"
   ]
  },
  {
   "cell_type": "code",
   "execution_count": 2,
   "id": "945a2f61-4438-4cb9-876d-ac9391ed296e",
   "metadata": {
    "tags": []
   },
   "outputs": [
    {
     "name": "stdout",
     "output_type": "stream",
     "text": [
      "17\n"
     ]
    }
   ],
   "source": [
    "#This a simple arithmetic expression to mutiply then add integers\n",
    "x=3*4\n",
    "y=5\n",
    "z=x+y\n",
    "print(z)"
   ]
  },
  {
   "cell_type": "code",
   "execution_count": 3,
   "id": "f31bf45c-20bc-4472-b638-a500f39f3b9c",
   "metadata": {
    "tags": []
   },
   "outputs": [
    {
     "name": "stdout",
     "output_type": "stream",
     "text": [
      "3.3333333333333335\n"
     ]
    }
   ],
   "source": [
    "#This will convert 200 minutes to hours by diving by 60\n",
    "min = 200\n",
    "div= 60\n",
    "h = min /div\n",
    "print(h)"
   ]
  },
  {
   "cell_type": "markdown",
   "id": "518ec97c-f310-473c-90b8-ecc469b0c08c",
   "metadata": {},
   "source": [
    "## Author\n",
    "Youssef ECHOUKRY"
   ]
  }
 ],
 "metadata": {
  "kernelspec": {
   "display_name": "Python",
   "language": "python",
   "name": "conda-env-python-py"
  },
  "language_info": {
   "codemirror_mode": {
    "name": "ipython",
    "version": 3
   },
   "file_extension": ".py",
   "mimetype": "text/x-python",
   "name": "python",
   "nbconvert_exporter": "python",
   "pygments_lexer": "ipython3",
   "version": "3.7.12"
  }
 },
 "nbformat": 4,
 "nbformat_minor": 5
}
